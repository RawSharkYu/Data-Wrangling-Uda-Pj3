{
 "cells": [
  {
   "cell_type": "markdown",
   "metadata": {},
   "source": [
    "### First, I start with data gathering."
   ]
  },
  {
   "cell_type": "markdown",
   "metadata": {},
   "source": [
    "In data gathering, there are 3 parts.\n",
    "\n",
    "1.Download twitter_archive_enhanced.csv manually.\n",
    "Then I saved this csv file as df_archive, pandas dataframe.\n",
    "\n",
    "2.Download image_predictions.tsv programmatically.\n",
    "Then I saved this csv file as df_image, pandas dataframe.\n",
    "\n",
    "\n",
    "3.Using Tweepy to Data Crawling.\n",
    "Then I saved this csv file as df_count, pandas dataframe.\n",
    "Also, in this step, I found some entries are errors, because these tweets with specific tweet_id cannot be found(maybe already deleted by user). I saved these error id as errors_index.\n",
    "\n"
   ]
  },
  {
   "cell_type": "markdown",
   "metadata": {},
   "source": [
    "### Then, data assessing."
   ]
  },
  {
   "cell_type": "markdown",
   "metadata": {},
   "source": [
    "I assess these 3 dataframe visually and programmatically .\n",
    "\n",
    "Quality Issues:\n",
    "\n",
    "1.The types of \"tweet_id\" is  int in twitter-archive-enhanced table, we should turn it into string.\n",
    "\n",
    "2.The types of \"tweet_id\" is  int in image_predictions table, we should turn it into string.\n",
    "\n",
    "3.The types of \"tweet_id\" is  int in favorites-retweets-count table, we should turn it into string.\n",
    "\n",
    "4.As I mentioned before, there are some tweets with specific tweet_id cannot be found.\n",
    "\n",
    "5.Most \"None\" values are not considered as None, but as object with string \"None\".\n",
    "\n",
    "6.The end of values of \"timestamp\" and \"retweeted_status_timestamp\" columns is \"+0000\", meaningless.\n",
    "\n",
    "7.The type of \"timestamp\" and \"retweeted_status_timestamp\" is \"object\", should be datetime.\n",
    "\n"
   ]
  },
  {
   "cell_type": "markdown",
   "metadata": {},
   "source": [
    "Tidiness Issues:\n",
    "\n",
    "1.The source column is unreadable for human, but in fact there are only 4 sources:\"Twitter for iPhone\",\"Vine - Make a Scene\",\"Twitter Web Client\",\"TweetDeck\".\n",
    "\n",
    "2.The twitter-archive-enhanced table, df_image and df_count table should be merged.\n",
    "\n",
    "3.The columns of \"in_reply_to_status_id\", \"in_reply_to_user_id\", \"retweeted_status_id\" and \"retweeted_status_user_id\" are not needed at all.\n",
    "\n",
    "4.Dog stage columns:\"doggo\",\"floofer\",\"pupper\",\"puppo\" could be one column as \"dog_stage\" with value as these names."
   ]
  },
  {
   "cell_type": "markdown",
   "metadata": {},
   "source": [
    "### Finally, data cleaning."
   ]
  },
  {
   "cell_type": "markdown",
   "metadata": {},
   "source": [
    "Step by step, I cleaned these issues.\n",
    "\n",
    "At the beginning, I made and used copies of 3 dataframes to avoid the damage to original data.\n",
    "\n",
    "First I delete error data in df_archive_clean, do this first in case any step after would use these error data.\n",
    "\n",
    "Then,Change \"None\" Values' type to None, by using replace(\"None\",np.NaN).\n",
    "\n",
    "Then, other data type changes mostly use astype() function or assign value directly.\n",
    "\n",
    "But for changing \"timestamp\" and \"retweeted_status_timestamp\" from object to date-time type, we need to use pd.to_datetime function.\n",
    "\n",
    "Finally, merging data, use pd.merge() function on tweet_id.\n",
    "\n"
   ]
  },
  {
   "cell_type": "markdown",
   "metadata": {},
   "source": [
    "### One step more, store data.\n",
    "\n",
    "Use to_csv(\"twitter_archive_master.csv\") to save as csv file."
   ]
  }
 ],
 "metadata": {
  "kernelspec": {
   "display_name": "Python 3",
   "language": "python",
   "name": "python3"
  },
  "language_info": {
   "codemirror_mode": {
    "name": "ipython",
    "version": 3
   },
   "file_extension": ".py",
   "mimetype": "text/x-python",
   "name": "python",
   "nbconvert_exporter": "python",
   "pygments_lexer": "ipython3",
   "version": "3.6.0"
  }
 },
 "nbformat": 4,
 "nbformat_minor": 2
}
